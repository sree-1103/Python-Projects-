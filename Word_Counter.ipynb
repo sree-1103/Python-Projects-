{
  "nbformat": 4,
  "nbformat_minor": 0,
  "metadata": {
    "colab": {
      "provenance": []
    },
    "kernelspec": {
      "name": "python3",
      "display_name": "Python 3"
    },
    "language_info": {
      "name": "python"
    }
  },
  "cells": [
    {
      "cell_type": "code",
      "source": [
        "import re\n",
        "\n",
        "def word_counter(text):\n",
        "    # Remove punctuation and convert to lowercase\n",
        "    text = re.sub(r'\\W+', ' ', text).lower()\n",
        "    # Split the text into words\n",
        "    words = text.split(' ')\n",
        "    # Creating empty dictionary\n",
        "    word_count = {}\n",
        "    # Loop through the words\n",
        "    for word in words:\n",
        "        if not word:\n",
        "            continue\n",
        "        if word in word_count:\n",
        "            word_count[word] += 1\n",
        "        else:\n",
        "            word_count[word] = 1\n",
        "    # Return the dictionary of word counts\n",
        "    return word_count\n",
        "\n",
        "\n",
        "print(word_counter(\"Risk, the uncertain events that lead to economic losses. Risk Management, identifying risk surrounded by the decisions and action. Insurance helps reduce the risk. There should be an Insurable interest of the life insured. The details of the risk should be disclosed fully. If it’s not disclosed the insurance is canceled. The main reason for the loss and the value is calculated.            .\"))"
      ],
      "metadata": {
        "colab": {
          "base_uri": "https://localhost:8080/"
        },
        "id": "hqiroRONW-MJ",
        "outputId": "ddc4fc03-558b-40bf-8a96-f637ac6f049a"
      },
      "execution_count": 12,
      "outputs": [
        {
          "output_type": "stream",
          "name": "stdout",
          "text": [
            "{'risk': 5, 'the': 10, 'uncertain': 1, 'events': 1, 'that': 1, 'lead': 1, 'to': 1, 'economic': 1, 'losses': 1, 'management': 1, 'identifying': 1, 'surrounded': 1, 'by': 1, 'decisions': 1, 'and': 2, 'action': 1, 'insurance': 2, 'helps': 1, 'reduce': 1, 'there': 1, 'should': 2, 'be': 2, 'an': 1, 'insurable': 1, 'interest': 1, 'of': 2, 'life': 1, 'insured': 1, 'details': 1, 'disclosed': 2, 'fully': 1, 'if': 1, 'it': 1, 's': 1, 'not': 1, 'is': 2, 'canceled': 1, 'main': 1, 'reason': 1, 'for': 1, 'loss': 1, 'value': 1, 'calculated': 1}\n"
          ]
        }
      ]
    },
    {
      "cell_type": "code",
      "source": [],
      "metadata": {
        "id": "XUByw9c4Y-Sd"
      },
      "execution_count": null,
      "outputs": []
    }
  ]
}